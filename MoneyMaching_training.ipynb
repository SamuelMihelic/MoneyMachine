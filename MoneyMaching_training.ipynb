{
  "nbformat": 4,
  "nbformat_minor": 0,
  "metadata": {
    "colab": {
      "name": "main/functions/price_model_fitting_testing.ipynb",
      "provenance": [],
      "collapsed_sections": [],
      "authorship_tag": "ABX9TyNQreMNdaWZw0dpG5zOy1Bo",
      "include_colab_link": true
    },
    "kernelspec": {
      "name": "python3",
      "display_name": "Python 3"
    },
    "language_info": {
      "name": "python"
    }
  },
  "cells": [
    {
      "cell_type": "markdown",
      "metadata": {
        "id": "view-in-github",
        "colab_type": "text"
      },
      "source": [
        "<a href=\"https://colab.research.google.com/github/SamuelMihelic/MoneyMachine/blob/main/main/functions/price_model_fitting_TESTING.ipynb\" target=\"_parent\"><img src=\"https://colab.research.google.com/assets/colab-badge.svg\" alt=\"Open In Colab\"/></a>"
      ]
    },
    {
      "cell_type": "code",
      "source": [
        "# # user defined input time period and time-scale\n",
        "# inputs = ...\n",
        "\n",
        "outputs = price_model_fitting( inputs )"
      ],
      "metadata": {
        "id": "gd7wix3xJAYO"
      },
      "execution_count": null,
      "outputs": []
    }
  ]
}
